{
  "nbformat": 4,
  "nbformat_minor": 0,
  "metadata": {
    "colab": {
      "provenance": [],
      "authorship_tag": "ABX9TyPimeU59Rav7PFsJBCILjiU",
      "include_colab_link": true
    },
    "kernelspec": {
      "name": "python3",
      "display_name": "Python 3"
    },
    "language_info": {
      "name": "python"
    }
  },
  "cells": [
    {
      "cell_type": "markdown",
      "metadata": {
        "id": "view-in-github",
        "colab_type": "text"
      },
      "source": [
        "<a href=\"https://colab.research.google.com/github/kedarvartak/Numpy/blob/main/numpy-basics-01.ipynb\" target=\"_parent\"><img src=\"https://colab.research.google.com/assets/colab-badge.svg\" alt=\"Open In Colab\"/></a>"
      ]
    },
    {
      "cell_type": "code",
      "execution_count": null,
      "metadata": {
        "id": "hk3nyB7zJkwE",
        "colab": {
          "base_uri": "https://localhost:8080/"
        },
        "outputId": "037f4972-9a0b-419a-bfdb-8c295da6cf77"
      },
      "outputs": [
        {
          "output_type": "stream",
          "name": "stdout",
          "text": [
            "Requirement already satisfied: numpy in /usr/local/lib/python3.11/dist-packages (2.0.2)\n"
          ]
        }
      ],
      "source": [
        "pip install numpy"
      ]
    },
    {
      "cell_type": "code",
      "source": [
        "import numpy as np"
      ],
      "metadata": {
        "id": "t9k53DLZKpGt"
      },
      "execution_count": null,
      "outputs": []
    },
    {
      "cell_type": "markdown",
      "source": [
        "# Array in Numpy\n",
        "Arrays in numpy are have some restrictions -\n",
        "\n",
        "* All elements of the array must be of the **same type of data**\n",
        "\n",
        "* Once created, the **total size of the array can’t change**\n",
        "\n",
        "* The shape must be “rectangular”, not “jagged”; e.g., **each row of a two-dimensional array must have the same number of columns**\n",
        "\n",
        "When these conditions are met, NumPy exploits these characteristics to make the array faster, more memory efficient, and more convenient to use than less restrictive data structures."
      ],
      "metadata": {
        "id": "aI2wS6j2MI4V"
      }
    },
    {
      "cell_type": "code",
      "source": [
        "a = np.array([1, 22, 3, 4, 5, 6])\n",
        "a"
      ],
      "metadata": {
        "colab": {
          "base_uri": "https://localhost:8080/"
        },
        "id": "F2RimIobMzOJ",
        "outputId": "b69875b6-0321-408d-8980-3a5a9eb7eb77"
      },
      "execution_count": null,
      "outputs": [
        {
          "output_type": "execute_result",
          "data": {
            "text/plain": [
              "array([ 1, 22,  3,  4,  5,  6])"
            ]
          },
          "metadata": {},
          "execution_count": 7
        }
      ]
    },
    {
      "cell_type": "markdown",
      "source": [
        "Elements of an array can be accessed in various ways -\n",
        "\n",
        "\n",
        "*   Accessing a single element from array - This is done the same way as we do in a list. **arrayname[index]**\n",
        "For example, for above array we would access the array element 1 as - **a[0]**\n",
        "which would retrieve us 1."
      ],
      "metadata": {
        "id": "w1KIhGTuNBY6"
      }
    },
    {
      "cell_type": "code",
      "source": [
        "a[1]"
      ],
      "metadata": {
        "colab": {
          "base_uri": "https://localhost:8080/"
        },
        "id": "cT14h4QSNpM9",
        "outputId": "89282ac9-8f19-4a8a-8923-61a4bb777d8a"
      },
      "execution_count": null,
      "outputs": [
        {
          "output_type": "execute_result",
          "data": {
            "text/plain": [
              "np.int64(22)"
            ]
          },
          "metadata": {},
          "execution_count": 8
        }
      ]
    },
    {
      "cell_type": "markdown",
      "source": [
        "Arrays are mutable, just like lists. Which means, when we change something in an array, the original existing array is modified and python does not create a new object for each new change"
      ],
      "metadata": {
        "id": "JWoD6j7rN7Q5"
      }
    },
    {
      "cell_type": "code",
      "source": [
        "a[:3]"
      ],
      "metadata": {
        "colab": {
          "base_uri": "https://localhost:8080/"
        },
        "id": "AEmujJAhOHuT",
        "outputId": "08d8a549-006d-4f83-d19f-4a61dbb1094b"
      },
      "execution_count": null,
      "outputs": [
        {
          "output_type": "execute_result",
          "data": {
            "text/plain": [
              "array([ 1, 22,  3])"
            ]
          },
          "metadata": {},
          "execution_count": 9
        }
      ]
    },
    {
      "cell_type": "markdown",
      "source": [
        "# Slicing in Python\n",
        "- Slicing a list in a python is like viewing it in parts, you only view the part you need, imagine that you just want to view the first 3 numbers out of the entire array, in that case we use - **a[:3]**\n",
        " Syntax - **sequence[start:stop:step]**\n",
        "- start: Index to begin the slice (inclusive)\n",
        "\n",
        "- stop: Index to end the slice (exclusive)\n",
        "\n",
        "- step: (Optional) How many steps to move forward\n",
        "\n",
        "BUT - Slicing an array in numpy is different, see when you execute **a[:3]** on a list python copies the first 3 elements in another object and displays that, **but slicing an array returns a view: an object that refers to the data in the original array. The original array can be mutated using the view**"
      ],
      "metadata": {
        "id": "FTDZeO2kQEP6"
      }
    },
    {
      "cell_type": "code",
      "source": [
        "b = a[3:]\n",
        "b\n",
        "b[0] = 40\n",
        "a"
      ],
      "metadata": {
        "colab": {
          "base_uri": "https://localhost:8080/"
        },
        "id": "aTANPFZ9RbgM",
        "outputId": "5fce90e9-e688-4599-92cc-b86c55b52f4e"
      },
      "execution_count": null,
      "outputs": [
        {
          "output_type": "execute_result",
          "data": {
            "text/plain": [
              "array([ 1, 22,  3, 40,  5,  6])"
            ]
          },
          "metadata": {},
          "execution_count": 10
        }
      ]
    }
  ]
}